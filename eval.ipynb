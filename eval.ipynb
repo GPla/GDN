{
 "cells": [
  {
   "cell_type": "code",
   "execution_count": 1,
   "metadata": {},
   "outputs": [],
   "source": [
    "import mlnext\n",
    "import numpy as np\n",
    "import pandas as pd\n",
    "from util.eval import _etarp, metrics, recall_segments\n",
    "import os"
   ]
  },
  {
   "cell_type": "code",
   "execution_count": 6,
   "metadata": {},
   "outputs": [],
   "source": [
    "y_hats = []\n",
    "ys = []\n",
    "\n",
    "for folder in mlnext.get_folders('./baseline/SMD', absolute=True):\n",
    "    ((_, y), (_, y_hat)) = pd.read_csv(\n",
    "        os.path.join(folder, 'preds.csv'),\n",
    "        header=0, index_col=None, sep=';'\n",
    "    ).items()\n",
    "\n",
    "    ys.append(y), y_hats.append(y_hat)\n",
    "\n",
    "y = pd.concat(ys)\n",
    "y_hat = pd.concat(y_hats)"
   ]
  },
  {
   "cell_type": "code",
   "execution_count": 7,
   "metadata": {},
   "outputs": [
    {
     "data": {
      "text/plain": [
       "{'accuracy': 0.9248673599108114,\n",
       " 'precision': 0.31778657979234537,\n",
       " 'recall': 0.6185393002144063,\n",
       " 'f1': 0.4198612745401623,\n",
       " 'roc_auc': 0.778745129189496}"
      ]
     },
     "execution_count": 7,
     "metadata": {},
     "output_type": "execute_result"
    }
   ],
   "source": [
    "mlnext.eval_metrics(y.to_numpy(), y_hat.to_numpy())"
   ]
  },
  {
   "cell_type": "code",
   "execution_count": 8,
   "metadata": {},
   "outputs": [
    {
     "data": {
      "text/plain": [
       "0.9126984126984127"
      ]
     },
     "execution_count": 8,
     "metadata": {},
     "output_type": "execute_result"
    }
   ],
   "source": [
    "recall_segments(y_hat, y)"
   ]
  },
  {
   "cell_type": "code",
   "execution_count": 9,
   "metadata": {},
   "outputs": [
    {
     "data": {
      "text/plain": [
       "{'etarp': {'eTaR': 0.6872247528329012,\n",
       "  'eTaRd': 0.8055555555555556,\n",
       "  'eTaRp': 0.5688939501102466,\n",
       "  'eTaP': 0.2463867966526354,\n",
       "  'eTaPd': 0.2529643936847036,\n",
       "  'eTaPp': 0.23980919962056718,\n",
       "  'Detected_Anomalies': 203,\n",
       "  'Correct_Predictions': 728,\n",
       "  'f1': 0.3627271010608268,\n",
       "  'False Alarm': 29455,\n",
       "  'N False Alarm': 2610,\n",
       "  'precision': 0.31778657979234537,\n",
       "  'recall': 0.6185393002144063,\n",
       "  'point_adjust_precision': 0.4242879746835443,\n",
       "  'point_adjust_recall': 0.9786049906482368,\n",
       "  'point_adjust_f1': 0.5919344379906458,\n",
       "  'segments': 0.8055555555555556,\n",
       "  'n_anomalies': 252}}"
      ]
     },
     "execution_count": 9,
     "metadata": {},
     "output_type": "execute_result"
    }
   ],
   "source": [
    "_etarp(y, y_hat)"
   ]
  },
  {
   "cell_type": "code",
   "execution_count": 10,
   "metadata": {},
   "outputs": [],
   "source": [
    "\n",
    "y_hats = []\n",
    "ys = []\n",
    "\n",
    "for folder in mlnext.get_folders('./baseline/SMDX', absolute=True):\n",
    "    ((_, y), (_, y_hat)) = pd.read_csv(\n",
    "        os.path.join(folder, 'preds.csv'),\n",
    "        header=0, index_col=None, sep=';'\n",
    "    ).items()\n",
    "\n",
    "    ys.append(y), y_hats.append(y_hat)\n",
    "\n",
    "y = pd.concat(ys)\n",
    "y_hat = pd.concat(y_hats)"
   ]
  },
  {
   "cell_type": "code",
   "execution_count": 11,
   "metadata": {},
   "outputs": [
    {
     "data": {
      "text/plain": [
       "{'accuracy': 0.9652148107748266,\n",
       " 'precision': 0.6745513866231647,\n",
       " 'recall': 0.6594395504252734,\n",
       " 'f1': 0.6669098728927461,\n",
       " 'roc_auc': 0.8208508936718497}"
      ]
     },
     "execution_count": 11,
     "metadata": {},
     "output_type": "execute_result"
    }
   ],
   "source": [
    "mlnext.eval_metrics(y.to_numpy(), y_hat.to_numpy())"
   ]
  },
  {
   "cell_type": "code",
   "execution_count": 12,
   "metadata": {},
   "outputs": [
    {
     "data": {
      "text/plain": [
       "0.8463302752293578"
      ]
     },
     "execution_count": 12,
     "metadata": {},
     "output_type": "execute_result"
    }
   ],
   "source": [
    "recall_segments(y_hat, y)"
   ]
  },
  {
   "cell_type": "code",
   "execution_count": 13,
   "metadata": {},
   "outputs": [
    {
     "data": {
      "text/plain": [
       "{'etarp': {'eTaR': 0.6983351557212321,\n",
       "  'eTaRd': 0.7821100917431193,\n",
       "  'eTaRp': 0.6145602196993448,\n",
       "  'eTaP': 0.5164626079310073,\n",
       "  'eTaPd': 0.5298743389587554,\n",
       "  'eTaPp': 0.5030508769032589,\n",
       "  'Detected_Anomalies': 341,\n",
       "  'Correct_Predictions': 1028,\n",
       "  'f1': 0.593784424906039,\n",
       "  'False Alarm': 8254,\n",
       "  'N False Alarm': 1285,\n",
       "  'precision': 0.6745513866231647,\n",
       "  'recall': 0.6594395504252734,\n",
       "  'point_adjust_precision': 0.7514313684772612,\n",
       "  'point_adjust_recall': 0.9618013365735115,\n",
       "  'point_adjust_f1': 0.8437005579148971,\n",
       "  'segments': 0.7821100917431193,\n",
       "  'n_anomalies': 436}}"
      ]
     },
     "execution_count": 13,
     "metadata": {},
     "output_type": "execute_result"
    }
   ],
   "source": [
    "_etarp(y, y_hat)"
   ]
  }
 ],
 "metadata": {
  "kernelspec": {
   "display_name": "py38gpu",
   "language": "python",
   "name": "python3"
  },
  "language_info": {
   "codemirror_mode": {
    "name": "ipython",
    "version": 3
   },
   "file_extension": ".py",
   "mimetype": "text/x-python",
   "name": "python",
   "nbconvert_exporter": "python",
   "pygments_lexer": "ipython3",
   "version": "3.8.8"
  },
  "orig_nbformat": 4,
  "vscode": {
   "interpreter": {
    "hash": "33953ecd031ee4c46789035bab6569edcab970d46e641aea6f935fa4b05eb750"
   }
  }
 },
 "nbformat": 4,
 "nbformat_minor": 2
}
